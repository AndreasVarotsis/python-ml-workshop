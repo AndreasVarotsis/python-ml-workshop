{
 "cells": [
  {
   "cell_type": "raw",
   "metadata": {},
   "source": [
    "---\n",
    "title: \"Applied Machine Learning (with Python)\"\n",
    "author: \"John Doe\"\n",
    "format: revealjs\n",
    "---"
   ]
  },
  {
   "attachments": {},
   "cell_type": "markdown",
   "metadata": {
    "vscode": {
     "languageId": "python"
    }
   },
   "source": [
    "## Getting up\n",
    "\n",
    "- Turn off alarm\n",
    "- Get out of bed\n",
    "\n",
    "## Going to sleep\n",
    "\n",
    "- Get in bed\n",
    "- Count sheep"
   ]
  }
 ],
 "metadata": {
  "language_info": {
   "name": "python"
  },
  "orig_nbformat": 4
 },
 "nbformat": 4,
 "nbformat_minor": 2
}
